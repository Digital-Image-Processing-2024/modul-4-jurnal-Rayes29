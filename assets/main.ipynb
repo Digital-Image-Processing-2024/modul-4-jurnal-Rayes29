{
 "cells": [
  {
   "cell_type": "markdown",
   "metadata": {},
   "source": [
    "### <center>Sulthan Rayes</center>\n",
    "#### <center>Nim F1D022161</center>"
   ]
  },
  {
   "cell_type": "markdown",
   "metadata": {},
   "source": [
    "# Coba Coba Hehehe"
   ]
  },
  {
   "cell_type": "code",
   "execution_count": 1,
   "metadata": {},
   "outputs": [],
   "source": [
    "import cv2\n",
    "import numpy as np\n",
    "\n",
    "img = cv2.imread('manchester_united.jpeg')\n",
    "\n",
    "img_gray = cv2.cvtColor(img, cv2.COLOR_BGR2GRAY)\n",
    "\n",
    "img_mean = cv2.blur(img_gray, (9, 9))\n",
    "edges_sobel = cv2.Sobel(img_mean, cv2.CV_64F, 1, 0)\n",
    "edges_prewitt = cv2.Sobel(img_mean, cv2.CV_64F, 0, 1)\n",
    "edges_robert = cv2.Sobel(img_mean, cv2.CV_64F, 1, 1)\n",
    "edges_mean_3x3 = cv2.Sobel(img_gray, cv2.CV_64F, 1, 0)\n",
    "edges_median_3x3 = cv2.Sobel(img_gray, cv2.CV_64F, 1, 0)\n",
    "edges_modus_3x3 = cv2.Sobel(img_gray, cv2.CV_64F, 1, 0)\n",
    "kernel = np.array([\n",
    "    [1/10, 1/10, 1/10],\n",
    "    [1/10, 1/5, 1/10],\n",
    "    [1/10, 1/10, 1/10]\n",
    "])\n",
    "\n",
    "img_sharpened = cv2.filter2D(img_gray, -1, kernel)\n",
    "edges_sharpened = cv2.Sobel(img_sharpened, cv2.CV_64F, 1, 0)\n",
    "\n",
    "cv2.imshow('Original', img)\n",
    "cv2.imshow('Mean', img_mean)\n",
    "cv2.imshow('Sobel', edges_sobel)\n",
    "cv2.imshow('Prewitt', edges_prewitt)\n",
    "cv2.imshow('Robert', edges_robert)\n",
    "cv2.imshow('Mean 3x3', edges_mean_3x3)\n",
    "cv2.imshow('Median 3x3', edges_median_3x3)\n",
    "cv2.imshow('Modus 3x3', edges_modus_3x3)\n",
    "cv2.imshow('Sharpened', img_sharpened)\n",
    "cv2.imshow('Sharpened Edges', edges_sharpened)\n",
    "\n",
    "cv2.waitKey(0)\n"
   ]
  }
 ],
 "metadata": {
  "kernelspec": {
   "display_name": "Python 3",
   "language": "python",
   "name": "python3"
  },
  "language_info": {
   "codemirror_mode": {
    "name": "ipython",
    "version": 3
   },
   "file_extension": ".py",
   "mimetype": "text/x-python",
   "name": "python",
   "nbconvert_exporter": "python",
   "pygments_lexer": "ipython3",
   "version": "3.10.7"
  }
 },
 "nbformat": 4,
 "nbformat_minor": 2
}
